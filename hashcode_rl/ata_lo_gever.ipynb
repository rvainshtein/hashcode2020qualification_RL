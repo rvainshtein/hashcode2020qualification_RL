{
 "cells": [
  {
   "cell_type": "code",
   "execution_count": 2,
   "metadata": {
    "collapsed": true
   },
   "outputs": [],
   "source": [
    "from glob import glob\n",
    "import torch\n",
    "import torch.optim as optim\n",
    "\n",
    "import matplotlib.pyplot as plt\n",
    "import numpy as np\n",
    "import tqdm\n",
    "\n",
    "from utils import *"
   ]
  },
  {
   "cell_type": "code",
   "execution_count": 3,
   "outputs": [],
   "source": [
    "from gym.wrappers import TimeLimit\n",
    "from env import LibrariesEnv\n",
    "data_files = glob('data/qualification_round_2020.in/*.txt')\n",
    "data_file = data_files[0]  # example\n",
    "\n",
    "train_env = LibrariesEnv(data_file)\n",
    "train_env = TimeLimit(train_env, train_env.total_days)"
   ],
   "metadata": {
    "collapsed": false,
    "pycharm": {
     "name": "#%%\n"
    }
   }
  },
  {
   "cell_type": "code",
   "execution_count": 4,
   "outputs": [
    {
     "data": {
      "text/plain": "<torch._C.Generator at 0x16621013910>"
     },
     "execution_count": 4,
     "metadata": {},
     "output_type": "execute_result"
    }
   ],
   "source": [
    "SEED = 1234\n",
    "\n",
    "train_env.seed(SEED)\n",
    "np.random.seed(SEED)\n",
    "torch.manual_seed(SEED)"
   ],
   "metadata": {
    "collapsed": false,
    "pycharm": {
     "name": "#%%\n"
    }
   }
  },
  {
   "cell_type": "code",
   "execution_count": 5,
   "outputs": [],
   "source": [
    "input_dim = train_env.observation_space.shape[0] * train_env.observation_space.shape[1]\n",
    "hidden_dim = 32\n",
    "output_dim = train_env.action_space.n"
   ],
   "metadata": {
    "collapsed": false,
    "pycharm": {
     "name": "#%%\n"
    }
   }
  },
  {
   "cell_type": "code",
   "execution_count": 6,
   "outputs": [],
   "source": [
    "device = torch.device('cpu')"
   ],
   "metadata": {
    "collapsed": false,
    "pycharm": {
     "name": "#%%\n"
    }
   }
  },
  {
   "cell_type": "code",
   "execution_count": 7,
   "outputs": [
    {
     "name": "stderr",
     "output_type": "stream",
     "text": [
      "Run: 0: 100%|██████████| 300/300 [00:01<00:00, 187.47it/s]\n",
      "Run: 1: 100%|██████████| 300/300 [00:01<00:00, 212.49it/s]\n",
      "Run: 2: 100%|██████████| 300/300 [00:01<00:00, 220.45it/s]\n",
      "Run: 3: 100%|██████████| 300/300 [00:01<00:00, 226.20it/s]\n",
      "Run: 4: 100%|██████████| 300/300 [00:01<00:00, 218.63it/s]\n"
     ]
    }
   ],
   "source": [
    "n_runs = 5\n",
    "max_episodes = 300\n",
    "discount_factor = 0.99\n",
    "\n",
    "train_rewards = torch.zeros(n_runs, max_episodes)\n",
    "test_rewards = torch.zeros(n_runs, max_episodes)\n",
    "device = torch.device('cpu')\n",
    "\n",
    "for run in range(n_runs):\n",
    "\n",
    "    policy = MLP(input_dim, hidden_dim, output_dim)\n",
    "    policy = policy.to(device)\n",
    "    policy.apply(init_weights)\n",
    "    optimizer = optim.Adam(policy.parameters(), lr=1e-2)\n",
    "\n",
    "    for episode in tqdm.tqdm(range(max_episodes), desc=f'Run: {run}'):\n",
    "\n",
    "        loss, train_reward = train(train_env, policy, optimizer, discount_factor, device)\n",
    "\n",
    "\n",
    "        train_rewards[run][episode] = train_reward"
   ],
   "metadata": {
    "collapsed": false,
    "pycharm": {
     "name": "#%%\n"
    }
   }
  },
  {
   "cell_type": "code",
   "execution_count": 12,
   "outputs": [
    {
     "data": {
      "text/plain": "<Figure size 720x432 with 1 Axes>",
      "image/png": "[encoded data removed]"
     },
     "metadata": {
      "needs_background": "light"
     },
     "output_type": "display_data"
    }
   ],
   "source": [
    "idxs = range(max_episodes)\n",
    "fig, ax = plt.subplots(1, figsize=(10,6))\n",
    "ax.plot(idxs, train_rewards.mean(0))\n",
    "ax.fill_between(idxs, train_rewards.min(0).values, train_rewards.max(0).values, alpha=0.1)\n",
    "ax.set_xlabel('Steps')\n",
    "ax.set_ylabel('Rewards');"
   ],
   "metadata": {
    "collapsed": false,
    "pycharm": {
     "name": "#%%\n"
    }
   }
  },
  {
   "cell_type": "code",
   "execution_count": 10,
   "outputs": [
    {
     "data": {
      "text/plain": "tensor([[107., 113., 120.,  ..., 120., 120., 120.],\n        [120., 114., 102.,  ..., 102., 102., 102.],\n        [120., 120., 120.,  ..., 120., 120., 120.],\n        [109., 102., 102.,  ..., 102., 102., 102.],\n        [102., 102., 102.,  ..., 102., 102., 102.]])"
     },
     "execution_count": 10,
     "metadata": {},
     "output_type": "execute_result"
    }
   ],
   "source": [
    "train_rewards"
   ],
   "metadata": {
    "collapsed": false,
    "pycharm": {
     "name": "#%%\n"
    }
   }
  }
 ],
 "metadata": {
  "kernelspec": {
   "name": "pycharm-76d7199d",
   "language": "python",
   "display_name": "PyCharm (hashcode_rl)"
  },
  "language_info": {
   "codemirror_mode": {
    "name": "ipython",
    "version": 2
   },
   "file_extension": ".py",
   "mimetype": "text/x-python",
   "name": "python",
   "nbconvert_exporter": "python",
   "pygments_lexer": "ipython2",
   "version": "2.7.6"
  }
 },
 "nbformat": 4,
 "nbformat_minor": 0
}